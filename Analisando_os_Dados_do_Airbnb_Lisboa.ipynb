{
  "nbformat": 4,
  "nbformat_minor": 0,
  "metadata": {
    "colab": {
      "name": "Analisando os Dados do Airbnb - Lisboa.ipynb",
      "provenance": [],
      "collapsed_sections": [],
      "include_colab_link": true
    },
    "kernelspec": {
      "name": "python3",
      "display_name": "Python 3"
    }
  },
  "cells": [
    {
      "cell_type": "markdown",
      "metadata": {
        "id": "view-in-github",
        "colab_type": "text"
      },
      "source": [
        "<a href=\"https://colab.research.google.com/github/pfbenassi/2020_dsnp/blob/master/Analisando_os_Dados_do_Airbnb_Lisboa.ipynb\" target=\"_parent\"><img src=\"https://colab.research.google.com/assets/colab-badge.svg\" alt=\"Open In Colab\"/></a>"
      ]
    },
    {
      "cell_type": "markdown",
      "metadata": {
        "id": "kLI0gJtzDGuQ",
        "colab_type": "text"
      },
      "source": [
        "<p align=\"center\">\n",
        "<img alt=\"Vista Lisboa - Portugal\"  width=\"100%\" src=\"https://cdn.civitatis.com/portugal/lisboa/guia/lisboa.jpg\">\n",
        "</p>\n",
        "\n",
        "# Análise dos Dados do Airbnb - *Lisboa*\n",
        "*by [Paulo Benassi](https://www.linkedin.com/in/paulo-fernando-abse-benassi-66113098)*\n",
        "\n",
        "\n",
        "---\n",
        "\n",
        "O [Airbnb](https://www.airbnb.com.br/) já é considerado como sendo a **maior empresa hoteleira da atualidade**. Ah, o detalhe é que ele **não possui nenhum hotel**!\n",
        "\n",
        "Conectando pessoas que querem viajar (e se hospedar) com anfitriões que querem alugar seus imóveis de maneira prática, o Airbnb fornece uma plataforma inovadora para tornar essa hospedagem alternativa.\n",
        "\n",
        "No final de 2018, a Startup fundada 10 anos atrás, já havia **hospedado mais de 300 milhões** de pessoas ao redor de todo o mundo, desafiando as redes hoteleiras tradicionais.\n",
        "\n",
        "Uma das iniciativas do Airbnb é disponibilizar dados do site, para algumas das principais cidades do mundo. Por meio do portal [Inside Airbnb](http://insideairbnb.com/get-the-data.html), é possível baixar uma grande quantidade de dados para desenvolver projetos e soluções de *Data Science*.\n",
        "\n",
        "<center><img alt=\"Analisando Airbnb\" width=\"10%\" src=\"https://www.area360.com.au/wp-content/uploads/2017/09/airbnb-logo.jpg\"></center>\n",
        "\n",
        "## Um pouco sobre Lisboa\n",
        "\n",
        "Com uma história muito antiga e rica que faz perder a sua origem na bruma dos séculos, Lisboa cresceu a partir da colina do Castelo. Foi habitada por Fenícios, Gregos, Romanos e Mouros e, em 1147, conquistada por D. Afonso Henriques. Em 1255, Lisboa tornava-se capital do reino.\n",
        "\n",
        "**Neste *notebook*, iremos analisar os dados referentes à cidade de Lisboa, e ver quais insights podem ser extraídos a partir de dados brutos.**"
      ]
    },
    {
      "cell_type": "markdown",
      "metadata": {
        "id": "0zxQHhIUDF_2",
        "colab_type": "text"
      },
      "source": [
        "## Obtenção dos Dados\n",
        "\n",
        "Todos os dados usados aqui foram obtidos a partir do site [Inside Airbnb](http://insideairbnb.com/get-the-data.html).\n",
        "\n",
        "Para esta análise exploratória, será baixado apenas o arquivo:\n",
        "\n",
        "* `listings.csv` - *Summary information and metrics for listings in Lisbon (good for visualisations).*\n",
        "\n",
        "*Obs.: Os dados obtidos para tal análise foram acessados em 21/06/2020 às 11:30h e, no momento desse acesso, as informações que estavam disponíveis eram referente ao dia 28/05/2020.*\n"
      ]
    },
    {
      "cell_type": "code",
      "metadata": {
        "id": "Vhp2wMPgJ6zX",
        "colab_type": "code",
        "colab": {}
      },
      "source": [
        "# importar os pacotes necessarios\n",
        "import pandas as pd\n",
        "import pandas.util.testing as tm\n",
        "import matplotlib.pyplot as plt\n",
        "import seaborn as sns \n",
        " \n",
        "%matplotlib inline"
      ],
      "execution_count": 40,
      "outputs": []
    },
    {
      "cell_type": "code",
      "metadata": {
        "id": "tUmoAT8DLQ5T",
        "colab_type": "code",
        "colab": {}
      },
      "source": [
        "# importar o arquivo listings.csv para um DataFrame\n",
        "df = pd.read_csv(\"http://data.insideairbnb.com/portugal/lisbon/lisbon/2020-05-28/visualisations/listings.csv\")"
      ],
      "execution_count": null,
      "outputs": []
    },
    {
      "cell_type": "markdown",
      "metadata": {
        "id": "qb5By2nIMS6m",
        "colab_type": "text"
      },
      "source": [
        "## Análise dos Dados\n",
        "\n",
        "Nesta etapa tem-se o objetivo de criar uma consciência situacional inicial e permitir um entendimento de como os dados estão estruturados.\n"
      ]
    },
    {
      "cell_type": "markdown",
      "metadata": {
        "id": "RYgvuebKNg8-",
        "colab_type": "text"
      },
      "source": [
        "**Dicionário das variáveis**\n",
        "\n",
        "* `id`: número de id gerado para identificar o imóvel\n",
        "* `name`: nome da propriedade anunciada\n",
        "* `host_id`: número de id do proprietário (anfitrião) da propriedade\n",
        "* `host_name`: nome do anfitrião\n",
        "* `neighbourhood_group`: esta coluna contém grupos de bairros\n",
        "* `neighbourhood`: bairro\n",
        "* `latitude`: coordenada da latitude da propriedade\n",
        "* `longitude`: coordenada da longitude da proriedade\n",
        "* `room_type`: tipo de quarto disponível na propriedade\n",
        "* `price`: preço para alugar o imóvel\n",
        "* `minimum_nights`: quantidade mínima de noites para reservar\n",
        "* `number_of_reviews`: número de avaliações que a propriedade possui\n",
        "* `last_review`: data da última avaliação\n",
        "* `reviews_per_mounth`: quantidade de avaliações por mês\n",
        "* `calculated_host_listings_count`: quantidade de imóveis do mesmo anfitrião\n",
        "* `availability_365`: número de dias de disponibilidade dentro de 365 dias\n",
        "\n",
        "Antes de iniciar qualquer análise, vamos verificar a cara do nosso *dataset*, analisando as 5 primeiras entradas."
      ]
    },
    {
      "cell_type": "code",
      "metadata": {
        "id": "2iS_dae7YQtO",
        "colab_type": "code",
        "colab": {
          "base_uri": "https://localhost:8080/",
          "height": 462
        },
        "outputId": "69a43568-8ac0-4b3c-a7a1-b6fb745c30c8"
      },
      "source": [
        "# mostrar as 5 primeiras entradas\n",
        "df.head()"
      ],
      "execution_count": null,
      "outputs": [
        {
          "output_type": "execute_result",
          "data": {
            "text/html": [
              "<div>\n",
              "<style scoped>\n",
              "    .dataframe tbody tr th:only-of-type {\n",
              "        vertical-align: middle;\n",
              "    }\n",
              "\n",
              "    .dataframe tbody tr th {\n",
              "        vertical-align: top;\n",
              "    }\n",
              "\n",
              "    .dataframe thead th {\n",
              "        text-align: right;\n",
              "    }\n",
              "</style>\n",
              "<table border=\"1\" class=\"dataframe\">\n",
              "  <thead>\n",
              "    <tr style=\"text-align: right;\">\n",
              "      <th></th>\n",
              "      <th>id</th>\n",
              "      <th>name</th>\n",
              "      <th>host_id</th>\n",
              "      <th>host_name</th>\n",
              "      <th>neighbourhood_group</th>\n",
              "      <th>neighbourhood</th>\n",
              "      <th>latitude</th>\n",
              "      <th>longitude</th>\n",
              "      <th>room_type</th>\n",
              "      <th>price</th>\n",
              "      <th>minimum_nights</th>\n",
              "      <th>number_of_reviews</th>\n",
              "      <th>last_review</th>\n",
              "      <th>reviews_per_month</th>\n",
              "      <th>calculated_host_listings_count</th>\n",
              "      <th>availability_365</th>\n",
              "    </tr>\n",
              "  </thead>\n",
              "  <tbody>\n",
              "    <tr>\n",
              "      <th>0</th>\n",
              "      <td>6499</td>\n",
              "      <td>Belém 1 Bedroom Historical Apartment</td>\n",
              "      <td>14455</td>\n",
              "      <td>Bruno</td>\n",
              "      <td>Lisboa</td>\n",
              "      <td>Belm</td>\n",
              "      <td>38.69750</td>\n",
              "      <td>-9.19768</td>\n",
              "      <td>Entire home/apt</td>\n",
              "      <td>40</td>\n",
              "      <td>3</td>\n",
              "      <td>26</td>\n",
              "      <td>2020-01-03</td>\n",
              "      <td>0.37</td>\n",
              "      <td>1</td>\n",
              "      <td>340</td>\n",
              "    </tr>\n",
              "    <tr>\n",
              "      <th>1</th>\n",
              "      <td>25659</td>\n",
              "      <td>Sunny,  Alfama  Sleeps 3 - Coeur d'Alfama</td>\n",
              "      <td>107347</td>\n",
              "      <td>Ellie</td>\n",
              "      <td>Lisboa</td>\n",
              "      <td>Santa Maria Maior</td>\n",
              "      <td>38.71167</td>\n",
              "      <td>-9.12696</td>\n",
              "      <td>Entire home/apt</td>\n",
              "      <td>60</td>\n",
              "      <td>3</td>\n",
              "      <td>113</td>\n",
              "      <td>2019-12-08</td>\n",
              "      <td>1.52</td>\n",
              "      <td>1</td>\n",
              "      <td>321</td>\n",
              "    </tr>\n",
              "    <tr>\n",
              "      <th>2</th>\n",
              "      <td>29248</td>\n",
              "      <td>Apartamento Alfama com vista para o rio!</td>\n",
              "      <td>125768</td>\n",
              "      <td>Bárbara</td>\n",
              "      <td>Lisboa</td>\n",
              "      <td>Santa Maria Maior</td>\n",
              "      <td>38.71272</td>\n",
              "      <td>-9.12628</td>\n",
              "      <td>Entire home/apt</td>\n",
              "      <td>60</td>\n",
              "      <td>1</td>\n",
              "      <td>321</td>\n",
              "      <td>2020-03-11</td>\n",
              "      <td>2.80</td>\n",
              "      <td>1</td>\n",
              "      <td>350</td>\n",
              "    </tr>\n",
              "    <tr>\n",
              "      <th>3</th>\n",
              "      <td>29396</td>\n",
              "      <td>Alfama Hill - Boutique apartment</td>\n",
              "      <td>126415</td>\n",
              "      <td>Mónica</td>\n",
              "      <td>Lisboa</td>\n",
              "      <td>Santa Maria Maior</td>\n",
              "      <td>38.71239</td>\n",
              "      <td>-9.12887</td>\n",
              "      <td>Entire home/apt</td>\n",
              "      <td>60</td>\n",
              "      <td>2</td>\n",
              "      <td>239</td>\n",
              "      <td>2020-03-15</td>\n",
              "      <td>2.45</td>\n",
              "      <td>2</td>\n",
              "      <td>296</td>\n",
              "    </tr>\n",
              "    <tr>\n",
              "      <th>4</th>\n",
              "      <td>29720</td>\n",
              "      <td>TheHOUSE - Your luxury home</td>\n",
              "      <td>128075</td>\n",
              "      <td>Francisco</td>\n",
              "      <td>Lisboa</td>\n",
              "      <td>Estrela</td>\n",
              "      <td>38.71195</td>\n",
              "      <td>-9.15877</td>\n",
              "      <td>Entire home/apt</td>\n",
              "      <td>1100</td>\n",
              "      <td>2</td>\n",
              "      <td>55</td>\n",
              "      <td>2020-03-15</td>\n",
              "      <td>0.48</td>\n",
              "      <td>2</td>\n",
              "      <td>322</td>\n",
              "    </tr>\n",
              "  </tbody>\n",
              "</table>\n",
              "</div>"
            ],
            "text/plain": [
              "      id  ... availability_365\n",
              "0   6499  ...              340\n",
              "1  25659  ...              321\n",
              "2  29248  ...              350\n",
              "3  29396  ...              296\n",
              "4  29720  ...              322\n",
              "\n",
              "[5 rows x 16 columns]"
            ]
          },
          "metadata": {
            "tags": []
          },
          "execution_count": 4
        }
      ]
    },
    {
      "cell_type": "markdown",
      "metadata": {
        "id": "6-B_qtEaYEd-",
        "colab_type": "text"
      },
      "source": [
        "### **Q1. Quantos atributos (variáveis) e quantas entradas o nosso conjunto de dados possui? Quais os tipos das variáveis?**\n",
        "\n",
        "Vamos prosseguir e identificar a quantidade de entradas que nosso conjunto de dados possui e ver os tipos de cada coluna.\n",
        "Este *dataset* que baixamos é a versão \"resumida\" do Airbnb. Na mesma página que baixamos o arquivo `listings.csv` há uma versão mais completa com **24302** entradas e **106** variáveis (`listings.csv.gz`)."
      ]
    },
    {
      "cell_type": "code",
      "metadata": {
        "id": "TFRK0tniLV-G",
        "colab_type": "code",
        "colab": {
          "base_uri": "https://localhost:8080/",
          "height": 374
        },
        "outputId": "6fdc6ce4-1ebf-4c51-fd2d-472e2be76c49"
      },
      "source": [
        "# identificar o volume de dados do DataFrame\n",
        "print(\"Entradas:\\t {}\".format(df.shape[0]))\n",
        "print(\"Variáveis:\\t {}\\n\".format(df.shape[1]))\n",
        "\n",
        "# Exibir dos tipos de dados de cada uma das variáveis presentes no dataset\n",
        "print(\"Tipos das variáveis:\")\n",
        "display(df.dtypes)"
      ],
      "execution_count": null,
      "outputs": [
        {
          "output_type": "stream",
          "text": [
            "Entradas:\t 24302\n",
            "Variáveis:\t 16\n",
            "\n",
            "Tipos das variáveis:\n"
          ],
          "name": "stdout"
        },
        {
          "output_type": "display_data",
          "data": {
            "text/plain": [
              "id                                  int64\n",
              "name                               object\n",
              "host_id                             int64\n",
              "host_name                          object\n",
              "neighbourhood_group                object\n",
              "neighbourhood                      object\n",
              "latitude                          float64\n",
              "longitude                         float64\n",
              "room_type                          object\n",
              "price                               int64\n",
              "minimum_nights                      int64\n",
              "number_of_reviews                   int64\n",
              "last_review                        object\n",
              "reviews_per_month                 float64\n",
              "calculated_host_listings_count      int64\n",
              "availability_365                    int64\n",
              "dtype: object"
            ]
          },
          "metadata": {
            "tags": []
          }
        }
      ]
    },
    {
      "cell_type": "markdown",
      "metadata": {
        "id": "yz1urSUGW9iE",
        "colab_type": "text"
      },
      "source": [
        "### **Q2. Qual a porcentagem de valores ausentes no *dataset*?**\n",
        "\n",
        "A qualidade de um *dataset* está diretamente relacionada à quantidade de valores ausentes. É importante entender logo no início se esses valores nulos são significativos comparados ao total de entradas.\n",
        "\n",
        "* É possível observar que as colunas `reviews_per_mounth` e `last_review` possuem aproximadamente 17% dos seus valores faltantes.\n",
        "* As variáveis `name` e `host_name` possuem aproximadamente 0,1% dos seus valores nulos.\n",
        "\n",
        "Conclui-se que os valores nulos não são tão significativos para este dataset uma vez que não influenciará na análise proposta inicialmente."
      ]
    },
    {
      "cell_type": "code",
      "metadata": {
        "id": "plk2FjbCXOqP",
        "colab_type": "code",
        "colab": {
          "base_uri": "https://localhost:8080/",
          "height": 306
        },
        "outputId": "7c20063f-fbd0-476f-f080-b4597b359359"
      },
      "source": [
        "# ordenar em ordem decrescente as variáveis por seus valores ausentes\n",
        "(round((df.isnull().sum() /df.shape[0])*100,4)).sort_values(ascending=False)"
      ],
      "execution_count": null,
      "outputs": [
        {
          "output_type": "execute_result",
          "data": {
            "text/plain": [
              "reviews_per_month                 17.3936\n",
              "last_review                       17.3936\n",
              "name                               0.0782\n",
              "host_name                          0.0041\n",
              "availability_365                   0.0000\n",
              "calculated_host_listings_count     0.0000\n",
              "number_of_reviews                  0.0000\n",
              "minimum_nights                     0.0000\n",
              "price                              0.0000\n",
              "room_type                          0.0000\n",
              "longitude                          0.0000\n",
              "latitude                           0.0000\n",
              "neighbourhood                      0.0000\n",
              "neighbourhood_group                0.0000\n",
              "host_id                            0.0000\n",
              "id                                 0.0000\n",
              "dtype: float64"
            ]
          },
          "metadata": {
            "tags": []
          },
          "execution_count": 14
        }
      ]
    },
    {
      "cell_type": "markdown",
      "metadata": {
        "id": "iHXvvHIxaoNc",
        "colab_type": "text"
      },
      "source": [
        "### **Q3. Qual o tipo de distribuição das variáveis?** \n",
        "\n",
        "Para identificar a distribuição das variáveis, irei plotar o histograma."
      ]
    },
    {
      "cell_type": "code",
      "metadata": {
        "id": "q2wWSfeRbmBo",
        "colab_type": "code",
        "colab": {
          "base_uri": "https://localhost:8080/",
          "height": 607
        },
        "outputId": "95453b50-d8a9-4b62-9255-0325af6b1043"
      },
      "source": [
        "# plotar o histograma das variáveis numéricas\n",
        "df.hist(bins=15, figsize=(15,10));"
      ],
      "execution_count": null,
      "outputs": [
        {
          "output_type": "display_data",
          "data": {
            "image/png": "[encoded data removed]",
            "text/plain": [
              "<Figure size 1080x720 with 12 Axes>"
            ]
          },
          "metadata": {
            "tags": [],
            "needs_background": "light"
          }
        }
      ]
    },
    {
      "cell_type": "markdown",
      "metadata": {
        "id": "9PPDn8F3cJLe",
        "colab_type": "text"
      },
      "source": [
        "### **Q4. Há *outliers* presentes?**\n"
      ]
    },
    {
      "cell_type": "markdown",
      "metadata": {
        "id": "UPHqcEqKciTV",
        "colab_type": "text"
      },
      "source": [
        "Pela distribuição do histograma é possível verificar indícios da presença de *outliers*. Analise por exemplo as variáveis `price`, `minimum_nights` e `calculated_host_listings_count`.\n",
        "\n",
        "Os valores não seguem uma distribuição, e distorcem toda a representação gráfica. Para confirmar, há duas maneiras rápidas que auxiliam a detecção de *outliers*. São elas:\n",
        "\n",
        "* Resumo estatístico por meio do método `describe()`\n",
        "* Plotar `boxplots` para a variável."
      ]
    },
    {
      "cell_type": "code",
      "metadata": {
        "id": "l23sOsR_dN5I",
        "colab_type": "code",
        "colab": {
          "base_uri": "https://localhost:8080/",
          "height": 297
        },
        "outputId": "d5804f01-ebae-4055-fdec-e50ea73ff02a"
      },
      "source": [
        "# Resumo estatístico das variáveis numéricas\n",
        "df[['price', 'minimum_nights','number_of_reviews', 'reviews_per_month', 'calculated_host_listings_count','availability_365']].describe()"
      ],
      "execution_count": null,
      "outputs": [
        {
          "output_type": "execute_result",
          "data": {
            "text/html": [
              "<div>\n",
              "<style scoped>\n",
              "    .dataframe tbody tr th:only-of-type {\n",
              "        vertical-align: middle;\n",
              "    }\n",
              "\n",
              "    .dataframe tbody tr th {\n",
              "        vertical-align: top;\n",
              "    }\n",
              "\n",
              "    .dataframe thead th {\n",
              "        text-align: right;\n",
              "    }\n",
              "</style>\n",
              "<table border=\"1\" class=\"dataframe\">\n",
              "  <thead>\n",
              "    <tr style=\"text-align: right;\">\n",
              "      <th></th>\n",
              "      <th>price</th>\n",
              "      <th>minimum_nights</th>\n",
              "      <th>number_of_reviews</th>\n",
              "      <th>reviews_per_month</th>\n",
              "      <th>calculated_host_listings_count</th>\n",
              "      <th>availability_365</th>\n",
              "    </tr>\n",
              "  </thead>\n",
              "  <tbody>\n",
              "    <tr>\n",
              "      <th>count</th>\n",
              "      <td>24302.000000</td>\n",
              "      <td>24302.000000</td>\n",
              "      <td>24302.000000</td>\n",
              "      <td>20075.000000</td>\n",
              "      <td>24302.000000</td>\n",
              "      <td>24302.000000</td>\n",
              "    </tr>\n",
              "    <tr>\n",
              "      <th>mean</th>\n",
              "      <td>111.541848</td>\n",
              "      <td>3.391367</td>\n",
              "      <td>41.446054</td>\n",
              "      <td>1.385960</td>\n",
              "      <td>14.835322</td>\n",
              "      <td>223.512880</td>\n",
              "    </tr>\n",
              "    <tr>\n",
              "      <th>std</th>\n",
              "      <td>351.691298</td>\n",
              "      <td>16.272085</td>\n",
              "      <td>65.824770</td>\n",
              "      <td>1.411868</td>\n",
              "      <td>42.781736</td>\n",
              "      <td>135.147466</td>\n",
              "    </tr>\n",
              "    <tr>\n",
              "      <th>min</th>\n",
              "      <td>0.000000</td>\n",
              "      <td>1.000000</td>\n",
              "      <td>0.000000</td>\n",
              "      <td>0.010000</td>\n",
              "      <td>1.000000</td>\n",
              "      <td>0.000000</td>\n",
              "    </tr>\n",
              "    <tr>\n",
              "      <th>25%</th>\n",
              "      <td>47.000000</td>\n",
              "      <td>1.000000</td>\n",
              "      <td>2.000000</td>\n",
              "      <td>0.290000</td>\n",
              "      <td>1.000000</td>\n",
              "      <td>97.000000</td>\n",
              "    </tr>\n",
              "    <tr>\n",
              "      <th>50%</th>\n",
              "      <td>70.000000</td>\n",
              "      <td>2.000000</td>\n",
              "      <td>13.000000</td>\n",
              "      <td>0.890000</td>\n",
              "      <td>3.000000</td>\n",
              "      <td>269.000000</td>\n",
              "    </tr>\n",
              "    <tr>\n",
              "      <th>75%</th>\n",
              "      <td>100.000000</td>\n",
              "      <td>3.000000</td>\n",
              "      <td>53.000000</td>\n",
              "      <td>2.100000</td>\n",
              "      <td>10.000000</td>\n",
              "      <td>351.000000</td>\n",
              "    </tr>\n",
              "    <tr>\n",
              "      <th>max</th>\n",
              "      <td>10000.000000</td>\n",
              "      <td>1000.000000</td>\n",
              "      <td>877.000000</td>\n",
              "      <td>19.610000</td>\n",
              "      <td>336.000000</td>\n",
              "      <td>365.000000</td>\n",
              "    </tr>\n",
              "  </tbody>\n",
              "</table>\n",
              "</div>"
            ],
            "text/plain": [
              "              price  ...  availability_365\n",
              "count  24302.000000  ...      24302.000000\n",
              "mean     111.541848  ...        223.512880\n",
              "std      351.691298  ...        135.147466\n",
              "min        0.000000  ...          0.000000\n",
              "25%       47.000000  ...         97.000000\n",
              "50%       70.000000  ...        269.000000\n",
              "75%      100.000000  ...        351.000000\n",
              "max    10000.000000  ...        365.000000\n",
              "\n",
              "[8 rows x 6 columns]"
            ]
          },
          "metadata": {
            "tags": []
          },
          "execution_count": 11
        }
      ]
    },
    {
      "cell_type": "markdown",
      "metadata": {
        "id": "ug5cbplkeWGw",
        "colab_type": "text"
      },
      "source": [
        "Olhando o resumo estatístico acima, podemos confirmar algumas hipóteses como:\n",
        "\n",
        "* A variável `price` possui 75% do valor abaixo de 100, porém, seu valor máximo é 10000;\n",
        "* Ainda sobre a variável `price` é importante observar que o valor mínimo é 0. Tais valores representam 0,22% de todas as entradas;\n",
        "* A variável `minimum_nights` possui média de exigência de 3 noites, porém, o valor máximo de noites exigidas está em 1000 (acima de 365 dias no ano)\n",
        "\n",
        "#### Boxplot para `minimum_nights`"
      ]
    },
    {
      "cell_type": "code",
      "metadata": {
        "id": "6TY900Bsfvk9",
        "colab_type": "code",
        "colab": {
          "base_uri": "https://localhost:8080/",
          "height": 279
        },
        "outputId": "ef50edfd-25f1-4b24-db91-fb6ab16a5645"
      },
      "source": [
        "# minimum_nights\n",
        "df.minimum_nights.plot(kind='box', vert=False, figsize=(15,3))\n",
        "plt.show()\n",
        "\n",
        "# Exibir quantidade de valores acima de 30 dias para minimum_nights\n",
        "print(\"\\nminimum_nights valores acima de 30:\")\n",
        "print(\"{} entradas\".format(len(df[df.minimum_nights > 30])))\n",
        "print(\"{:.4f}%\".format((len(df[df.minimum_nights > 30]) / df.shape[0]) * 100))"
      ],
      "execution_count": null,
      "outputs": [
        {
          "output_type": "display_data",
          "data": {
            "image/png": "[encoded data removed]",
            "text/plain": [
              "<Figure size 1080x216 with 1 Axes>"
            ]
          },
          "metadata": {
            "tags": [],
            "needs_background": "light"
          }
        },
        {
          "output_type": "stream",
          "text": [
            "\n",
            "minimum_nights valores acima de 30:\n",
            "111 entradas\n",
            "0.4568%\n"
          ],
          "name": "stdout"
        }
      ]
    },
    {
      "cell_type": "markdown",
      "metadata": {
        "id": "LYPql1hNhHbz",
        "colab_type": "text"
      },
      "source": [
        "### Boxplot para `price`"
      ]
    },
    {
      "cell_type": "code",
      "metadata": {
        "id": "HlyI7f1thLyQ",
        "colab_type": "code",
        "colab": {
          "base_uri": "https://localhost:8080/",
          "height": 347
        },
        "outputId": "1b63e3cf-177b-4318-cdb5-915b407fd513"
      },
      "source": [
        "# price\n",
        "df.price.plot(kind='box', vert=False, figsize=(15,3))\n",
        "plt.show()\n",
        "\n",
        "# Exibir a quantidade de valores acima de 500 para price\n",
        "print(\"\\nprice - valores acima de 500:\")\n",
        "print(\"{} entradas\".format(len(df[df.price > 500])))\n",
        "print(\"{:.4f}%\".format((len(df[df.price > 500]) / df.shape[0]) * 100))\n",
        "\n",
        "# Exibir a quantidade de valores 0 para price\n",
        "print(\"\\nprice - valores = 0:\")\n",
        "print(\"{} entradas\".format(len(df[df.price == 0])))\n",
        "print(\"{:.4f}%\".format((len(df[df.price == 0]) / df.shape[0]) * 100))"
      ],
      "execution_count": null,
      "outputs": [
        {
          "output_type": "display_data",
          "data": {
            "image/png": "[encoded data removed]",
            "text/plain": [
              "<Figure size 1080x216 with 1 Axes>"
            ]
          },
          "metadata": {
            "tags": [],
            "needs_background": "light"
          }
        },
        {
          "output_type": "stream",
          "text": [
            "\n",
            "price - valores acima de 500:\n",
            "401 entradas\n",
            "1.6501%\n",
            "\n",
            "price - valores = 0:\n",
            "54 entradas\n",
            "0.2222%\n"
          ],
          "name": "stdout"
        }
      ]
    },
    {
      "cell_type": "markdown",
      "metadata": {
        "id": "_oaWJyUKjNkl",
        "colab_type": "text"
      },
      "source": [
        "### Histograma sem *outliers*\n",
        "\n",
        "Uma vez identificado *outliers* nas variáveis `price` e `minimum_nights` iremos providenciar a limpeza do *DataFrame* desses atributos e plotar novamente o histograma."
      ]
    },
    {
      "cell_type": "code",
      "metadata": {
        "id": "ePowKgfwcJ8Y",
        "colab_type": "code",
        "colab": {
          "base_uri": "https://localhost:8080/",
          "height": 607
        },
        "outputId": "322e707d-a775-4273-c7f6-2417461f14aa"
      },
      "source": [
        "# remover os *outleirs* em um novo dataframe\n",
        "df_clean = df.copy()\n",
        "df_clean.drop(df_clean[df_clean.price > 500].index, axis=0, inplace=True)\n",
        "df_clean.drop(df_clean[df_clean.price == 0].index, axis=0, inplace=True)\n",
        "df_clean.drop(df_clean[df_clean.minimum_nights > 30].index, axis=0, inplace=True)\n",
        "\n",
        "# plotar o histograma para as variáveis numéricas\n",
        "df_clean.hist(bins=15, figsize=(15,10));"
      ],
      "execution_count": null,
      "outputs": [
        {
          "output_type": "display_data",
          "data": {
            "image/png": "[encoded data removed]",
            "text/plain": [
              "<Figure size 1080x720 with 12 Axes>"
            ]
          },
          "metadata": {
            "tags": [],
            "needs_background": "light"
          }
        }
      ]
    },
    {
      "cell_type": "markdown",
      "metadata": {
        "id": "7x4aw1j5wNmn",
        "colab_type": "text"
      },
      "source": [
        "### **Q5. Qual a média dos preços de aluguel?**\n",
        "\n",
        "Após retirar os *outliers* podemos plotar novamente o **Resumo Estatístico** para o atributo `price` e verificar que a média no valor dos aluguéis é de **86.37**."
      ]
    },
    {
      "cell_type": "code",
      "metadata": {
        "id": "4r6WbMBjpSFK",
        "colab_type": "code",
        "colab": {
          "base_uri": "https://localhost:8080/",
          "height": 297
        },
        "outputId": "11707006-4b92-4f3e-dfb6-5e1c256a506d"
      },
      "source": [
        "# Resumo Estatístico para análise dos valores contidos na variável price após limpeza do Dataset\n",
        "df_clean[['price']].describe()"
      ],
      "execution_count": null,
      "outputs": [
        {
          "output_type": "execute_result",
          "data": {
            "text/html": [
              "<div>\n",
              "<style scoped>\n",
              "    .dataframe tbody tr th:only-of-type {\n",
              "        vertical-align: middle;\n",
              "    }\n",
              "\n",
              "    .dataframe tbody tr th {\n",
              "        vertical-align: top;\n",
              "    }\n",
              "\n",
              "    .dataframe thead th {\n",
              "        text-align: right;\n",
              "    }\n",
              "</style>\n",
              "<table border=\"1\" class=\"dataframe\">\n",
              "  <thead>\n",
              "    <tr style=\"text-align: right;\">\n",
              "      <th></th>\n",
              "      <th>price</th>\n",
              "    </tr>\n",
              "  </thead>\n",
              "  <tbody>\n",
              "    <tr>\n",
              "      <th>count</th>\n",
              "      <td>23736.000000</td>\n",
              "    </tr>\n",
              "    <tr>\n",
              "      <th>mean</th>\n",
              "      <td>86.369397</td>\n",
              "    </tr>\n",
              "    <tr>\n",
              "      <th>std</th>\n",
              "      <td>69.518551</td>\n",
              "    </tr>\n",
              "    <tr>\n",
              "      <th>min</th>\n",
              "      <td>8.000000</td>\n",
              "    </tr>\n",
              "    <tr>\n",
              "      <th>25%</th>\n",
              "      <td>47.000000</td>\n",
              "    </tr>\n",
              "    <tr>\n",
              "      <th>50%</th>\n",
              "      <td>69.000000</td>\n",
              "    </tr>\n",
              "    <tr>\n",
              "      <th>75%</th>\n",
              "      <td>100.000000</td>\n",
              "    </tr>\n",
              "    <tr>\n",
              "      <th>max</th>\n",
              "      <td>500.000000</td>\n",
              "    </tr>\n",
              "  </tbody>\n",
              "</table>\n",
              "</div>"
            ],
            "text/plain": [
              "              price\n",
              "count  23736.000000\n",
              "mean      86.369397\n",
              "std       69.518551\n",
              "min        8.000000\n",
              "25%       47.000000\n",
              "50%       69.000000\n",
              "75%      100.000000\n",
              "max      500.000000"
            ]
          },
          "metadata": {
            "tags": []
          },
          "execution_count": 27
        }
      ]
    },
    {
      "cell_type": "code",
      "metadata": {
        "id": "ff-8gUahLk-C",
        "colab_type": "code",
        "colab": {
          "base_uri": "https://localhost:8080/",
          "height": 68
        },
        "outputId": "da6a6966-2849-4e7e-9c18-f7799a68311b"
      },
      "source": [
        "# ver a média da coluna `price``\n",
        "print(\"Média: \\n\" + str(round(df_clean[['price']].mean(),2)))"
      ],
      "execution_count": null,
      "outputs": [
        {
          "output_type": "stream",
          "text": [
            "Média: \n",
            "price    86.37\n",
            "dtype: float64\n"
          ],
          "name": "stdout"
        }
      ]
    },
    {
      "cell_type": "markdown",
      "metadata": {
        "id": "IXn2oIo5qx-w",
        "colab_type": "text"
      },
      "source": [
        "### **Q6. Qual a correlação existente entre as variáveis**\n",
        "\n",
        "Correlação significa que existe uma relação entre duas coisas. No nosso contexto, estamos buscando uma relação ou semelhança entre duas variáveis.\n",
        "\n",
        "Essa relação pode ser medida, e é função do coeficiente de correlação estabelecer qual a intensidade dela. Para identificar as correlações existentes entre as variáveis de interesse, vou:\n",
        "\n",
        "* Criar uma matriz de correlação\n",
        "* Gerar um *heatmap* a partir dessa matriz, usando a biblioteca `seaborn`"
      ]
    },
    {
      "cell_type": "code",
      "metadata": {
        "id": "x2ayzBajqxyd",
        "colab_type": "code",
        "colab": {
          "base_uri": "https://localhost:8080/",
          "height": 255
        },
        "outputId": "34aa9322-bd3b-4873-b015-ca682727b226"
      },
      "source": [
        "# criar uma matriz de correlação\n",
        "corr = df_clean[['price', 'minimum_nights', 'number_of_reviews', 'reviews_per_month', 'calculated_host_listings_count', 'availability_365']].corr()\n",
        "\n",
        "# mostrar a matriz de correlação\n",
        "display(corr)\n"
      ],
      "execution_count": null,
      "outputs": [
        {
          "output_type": "display_data",
          "data": {
            "text/html": [
              "<div>\n",
              "<style scoped>\n",
              "    .dataframe tbody tr th:only-of-type {\n",
              "        vertical-align: middle;\n",
              "    }\n",
              "\n",
              "    .dataframe tbody tr th {\n",
              "        vertical-align: top;\n",
              "    }\n",
              "\n",
              "    .dataframe thead th {\n",
              "        text-align: right;\n",
              "    }\n",
              "</style>\n",
              "<table border=\"1\" class=\"dataframe\">\n",
              "  <thead>\n",
              "    <tr style=\"text-align: right;\">\n",
              "      <th></th>\n",
              "      <th>price</th>\n",
              "      <th>minimum_nights</th>\n",
              "      <th>number_of_reviews</th>\n",
              "      <th>reviews_per_month</th>\n",
              "      <th>calculated_host_listings_count</th>\n",
              "      <th>availability_365</th>\n",
              "    </tr>\n",
              "  </thead>\n",
              "  <tbody>\n",
              "    <tr>\n",
              "      <th>price</th>\n",
              "      <td>1.000000</td>\n",
              "      <td>-0.030887</td>\n",
              "      <td>-0.125457</td>\n",
              "      <td>-0.119951</td>\n",
              "      <td>-0.011059</td>\n",
              "      <td>0.047205</td>\n",
              "    </tr>\n",
              "    <tr>\n",
              "      <th>minimum_nights</th>\n",
              "      <td>-0.030887</td>\n",
              "      <td>1.000000</td>\n",
              "      <td>-0.054348</td>\n",
              "      <td>-0.097057</td>\n",
              "      <td>-0.027607</td>\n",
              "      <td>-0.044357</td>\n",
              "    </tr>\n",
              "    <tr>\n",
              "      <th>number_of_reviews</th>\n",
              "      <td>-0.125457</td>\n",
              "      <td>-0.054348</td>\n",
              "      <td>1.000000</td>\n",
              "      <td>0.804058</td>\n",
              "      <td>-0.087371</td>\n",
              "      <td>0.069841</td>\n",
              "    </tr>\n",
              "    <tr>\n",
              "      <th>reviews_per_month</th>\n",
              "      <td>-0.119951</td>\n",
              "      <td>-0.097057</td>\n",
              "      <td>0.804058</td>\n",
              "      <td>1.000000</td>\n",
              "      <td>-0.100135</td>\n",
              "      <td>0.061120</td>\n",
              "    </tr>\n",
              "    <tr>\n",
              "      <th>calculated_host_listings_count</th>\n",
              "      <td>-0.011059</td>\n",
              "      <td>-0.027607</td>\n",
              "      <td>-0.087371</td>\n",
              "      <td>-0.100135</td>\n",
              "      <td>1.000000</td>\n",
              "      <td>0.057861</td>\n",
              "    </tr>\n",
              "    <tr>\n",
              "      <th>availability_365</th>\n",
              "      <td>0.047205</td>\n",
              "      <td>-0.044357</td>\n",
              "      <td>0.069841</td>\n",
              "      <td>0.061120</td>\n",
              "      <td>0.057861</td>\n",
              "      <td>1.000000</td>\n",
              "    </tr>\n",
              "  </tbody>\n",
              "</table>\n",
              "</div>"
            ],
            "text/plain": [
              "                                   price  ...  availability_365\n",
              "price                           1.000000  ...          0.047205\n",
              "minimum_nights                 -0.030887  ...         -0.044357\n",
              "number_of_reviews              -0.125457  ...          0.069841\n",
              "reviews_per_month              -0.119951  ...          0.061120\n",
              "calculated_host_listings_count -0.011059  ...          0.057861\n",
              "availability_365                0.047205  ...          1.000000\n",
              "\n",
              "[6 rows x 6 columns]"
            ]
          },
          "metadata": {
            "tags": []
          }
        }
      ]
    },
    {
      "cell_type": "code",
      "metadata": {
        "id": "91UujDr6ueqE",
        "colab_type": "code",
        "colab": {
          "base_uri": "https://localhost:8080/",
          "height": 411
        },
        "outputId": "c039dfef-abcc-4221-9343-2679c6eaecae"
      },
      "source": [
        "# plotar um heatmap a partir das correlações\n",
        "sns.heatmap(corr, cmap='RdBu', fmt='.2f', square=True, linecolor='white', annot=True);\n"
      ],
      "execution_count": null,
      "outputs": [
        {
          "output_type": "display_data",
          "data": {
            "image/png": "[encoded data removed]",
            "text/plain": [
              "<Figure size 432x288 with 2 Axes>"
            ]
          },
          "metadata": {
            "tags": [],
            "needs_background": "light"
          }
        }
      ]
    },
    {
      "cell_type": "markdown",
      "metadata": {
        "id": "7b6RMWpuHKN-",
        "colab_type": "text"
      },
      "source": [
        "### **Q7. Qual o tipo de imóvel mais alugado no Airbnb?**\n",
        "\n",
        "A coluna da variável `room_type` indica o tipo de locação que está anunciada no Airbnb. Se você já alugou no site, sabe que existem opções de apartamentos/casas inteiras, apenas o aluguel de um quarto ou mesmo dividir o quarto com outras pessoas.\n",
        "\n",
        "Vamos contar a quantidade de ocorrências de cada tipo de aluguel, usando o método `value_counts()`."
      ]
    },
    {
      "cell_type": "code",
      "metadata": {
        "id": "ueLPNWvPHgfB",
        "colab_type": "code",
        "colab": {
          "base_uri": "https://localhost:8080/",
          "height": 102
        },
        "outputId": "5e0874bc-c953-46b8-fc11-0d4270f36a29"
      },
      "source": [
        "# mostrar a quantidade de cada tipo de imóvel disponível\n",
        "df_clean.room_type.value_counts()\n"
      ],
      "execution_count": null,
      "outputs": [
        {
          "output_type": "execute_result",
          "data": {
            "text/plain": [
              "Entire home/apt    17356\n",
              "Private room        5533\n",
              "Hotel room           439\n",
              "Shared room          408\n",
              "Name: room_type, dtype: int64"
            ]
          },
          "metadata": {
            "tags": []
          },
          "execution_count": 8
        }
      ]
    },
    {
      "cell_type": "code",
      "metadata": {
        "id": "EvwoO-XAHhIm",
        "colab_type": "code",
        "colab": {
          "base_uri": "https://localhost:8080/",
          "height": 102
        },
        "outputId": "e1dd6cb1-80b1-43dc-edbf-1e26ad270f64"
      },
      "source": [
        "# mostrar a porcentagem de cada tipo de imóvel disponível\n",
        "df_clean.room_type.value_counts() / df_clean.shape[0]"
      ],
      "execution_count": null,
      "outputs": [
        {
          "output_type": "execute_result",
          "data": {
            "text/plain": [
              "Entire home/apt    0.731210\n",
              "Private room       0.233106\n",
              "Hotel room         0.018495\n",
              "Shared room        0.017189\n",
              "Name: room_type, dtype: float64"
            ]
          },
          "metadata": {
            "tags": []
          },
          "execution_count": 9
        }
      ]
    },
    {
      "cell_type": "markdown",
      "metadata": {
        "id": "MFa5NbnLJMcd",
        "colab_type": "text"
      },
      "source": [
        "### **Q8. Qual a localidade mais cara de Lisboa?**\n",
        "\n",
        "Uma maneira de verificar uma variável em função da outra é usando o método `group_by()`. No caso, queremos comparar os bairros (*neighbourhoods*) a partir do preço de locação.\n",
        "\n"
      ]
    },
    {
      "cell_type": "code",
      "metadata": {
        "id": "MD_xa143JZpi",
        "colab_type": "code",
        "colab": {
          "base_uri": "https://localhost:8080/",
          "height": 221
        },
        "outputId": "635dc297-16aa-4366-d21e-64eec1d97944"
      },
      "source": [
        "# ver preços por bairros, na média\n",
        "df_clean.groupby(['neighbourhood']).price.mean().sort_values(ascending=False)[:10]\n"
      ],
      "execution_count": null,
      "outputs": [
        {
          "output_type": "execute_result",
          "data": {
            "text/plain": [
              "neighbourhood\n",
              "Vermelha                                           292.500000\n",
              "Cardosas                                           280.000000\n",
              "Aveiras de Baixo                                   269.500000\n",
              "Ota                                                249.000000\n",
              "Freiria                                            220.000000\n",
              "Peral                                              176.800000\n",
              "Meca                                               163.000000\n",
              "Enxara do Bispo, Gradil e Vila Franca do Rosrio    161.692308\n",
              "Vale do Paraso                                     150.000000\n",
              "Santa Brbara                                       140.777778\n",
              "Name: price, dtype: float64"
            ]
          },
          "metadata": {
            "tags": []
          },
          "execution_count": 10
        }
      ]
    },
    {
      "cell_type": "markdown",
      "metadata": {
        "id": "b_zBK4E4ivd9",
        "colab_type": "text"
      },
      "source": [
        "Uma vez que não tenho conhecimento prévio sobre os bairros mais caros em Lisboa, na próximas células analiso a quantidade de entradas para os 3 bairros apontados como mais caros simplesmente para não apresentar amostras não-representativas."
      ]
    },
    {
      "cell_type": "code",
      "metadata": {
        "id": "d5oGVy8oqjcx",
        "colab_type": "code",
        "colab": {
          "base_uri": "https://localhost:8080/",
          "height": 284
        },
        "outputId": "ef1be3c5-95ad-4680-c588-47e2a941c256"
      },
      "source": [
        "# Quantidade de Imóveis no bairro Vermelha\n",
        "print(df_clean[df_clean.neighbourhood == 'Vermelha'].shape)\n",
        "\n",
        "# Ver as 2 entradas do bairro Vermelha\n",
        "df_clean[df_clean.neighbourhood == 'Vermelha']"
      ],
      "execution_count": null,
      "outputs": [
        {
          "output_type": "stream",
          "text": [
            "(2, 16)\n"
          ],
          "name": "stdout"
        },
        {
          "output_type": "execute_result",
          "data": {
            "text/html": [
              "<div>\n",
              "<style scoped>\n",
              "    .dataframe tbody tr th:only-of-type {\n",
              "        vertical-align: middle;\n",
              "    }\n",
              "\n",
              "    .dataframe tbody tr th {\n",
              "        vertical-align: top;\n",
              "    }\n",
              "\n",
              "    .dataframe thead th {\n",
              "        text-align: right;\n",
              "    }\n",
              "</style>\n",
              "<table border=\"1\" class=\"dataframe\">\n",
              "  <thead>\n",
              "    <tr style=\"text-align: right;\">\n",
              "      <th></th>\n",
              "      <th>id</th>\n",
              "      <th>name</th>\n",
              "      <th>host_id</th>\n",
              "      <th>host_name</th>\n",
              "      <th>neighbourhood_group</th>\n",
              "      <th>neighbourhood</th>\n",
              "      <th>latitude</th>\n",
              "      <th>longitude</th>\n",
              "      <th>room_type</th>\n",
              "      <th>price</th>\n",
              "      <th>minimum_nights</th>\n",
              "      <th>number_of_reviews</th>\n",
              "      <th>last_review</th>\n",
              "      <th>reviews_per_month</th>\n",
              "      <th>calculated_host_listings_count</th>\n",
              "      <th>availability_365</th>\n",
              "    </tr>\n",
              "  </thead>\n",
              "  <tbody>\n",
              "    <tr>\n",
              "      <th>5483</th>\n",
              "      <td>12451045</td>\n",
              "      <td>Sunny and Lovely Farm House/Pool</td>\n",
              "      <td>67363770</td>\n",
              "      <td>Solange</td>\n",
              "      <td>Cadaval</td>\n",
              "      <td>Vermelha</td>\n",
              "      <td>39.26844</td>\n",
              "      <td>-9.10864</td>\n",
              "      <td>Entire home/apt</td>\n",
              "      <td>235</td>\n",
              "      <td>5</td>\n",
              "      <td>19</td>\n",
              "      <td>2019-09-01</td>\n",
              "      <td>0.40</td>\n",
              "      <td>1</td>\n",
              "      <td>173</td>\n",
              "    </tr>\n",
              "    <tr>\n",
              "      <th>20660</th>\n",
              "      <td>36683641</td>\n",
              "      <td>Large house for amazing family holidays. 12 pe...</td>\n",
              "      <td>275719003</td>\n",
              "      <td>Laura</td>\n",
              "      <td>Cadaval</td>\n",
              "      <td>Vermelha</td>\n",
              "      <td>39.27082</td>\n",
              "      <td>-9.10679</td>\n",
              "      <td>Entire home/apt</td>\n",
              "      <td>350</td>\n",
              "      <td>2</td>\n",
              "      <td>5</td>\n",
              "      <td>2020-05-31</td>\n",
              "      <td>0.51</td>\n",
              "      <td>1</td>\n",
              "      <td>310</td>\n",
              "    </tr>\n",
              "  </tbody>\n",
              "</table>\n",
              "</div>"
            ],
            "text/plain": [
              "             id  ... availability_365\n",
              "5483   12451045  ...              173\n",
              "20660  36683641  ...              310\n",
              "\n",
              "[2 rows x 16 columns]"
            ]
          },
          "metadata": {
            "tags": []
          },
          "execution_count": 33
        }
      ]
    },
    {
      "cell_type": "code",
      "metadata": {
        "id": "2_yp7sh9roDo",
        "colab_type": "code",
        "colab": {
          "base_uri": "https://localhost:8080/",
          "height": 202
        },
        "outputId": "006cac4d-d9b6-4262-c13b-26c3ed87967f"
      },
      "source": [
        "# Quantidade de Imóveis no bairro Cardosas\n",
        "print(df_clean[df_clean.neighbourhood == 'Cardosas'].shape)\n",
        "\n",
        "# Ver a entrada do bairro Cardosas\n",
        "df_clean[df_clean.neighbourhood == 'Cardosas']"
      ],
      "execution_count": null,
      "outputs": [
        {
          "output_type": "stream",
          "text": [
            "(1, 16)\n"
          ],
          "name": "stdout"
        },
        {
          "output_type": "execute_result",
          "data": {
            "text/html": [
              "<div>\n",
              "<style scoped>\n",
              "    .dataframe tbody tr th:only-of-type {\n",
              "        vertical-align: middle;\n",
              "    }\n",
              "\n",
              "    .dataframe tbody tr th {\n",
              "        vertical-align: top;\n",
              "    }\n",
              "\n",
              "    .dataframe thead th {\n",
              "        text-align: right;\n",
              "    }\n",
              "</style>\n",
              "<table border=\"1\" class=\"dataframe\">\n",
              "  <thead>\n",
              "    <tr style=\"text-align: right;\">\n",
              "      <th></th>\n",
              "      <th>id</th>\n",
              "      <th>name</th>\n",
              "      <th>host_id</th>\n",
              "      <th>host_name</th>\n",
              "      <th>neighbourhood_group</th>\n",
              "      <th>neighbourhood</th>\n",
              "      <th>latitude</th>\n",
              "      <th>longitude</th>\n",
              "      <th>room_type</th>\n",
              "      <th>price</th>\n",
              "      <th>minimum_nights</th>\n",
              "      <th>number_of_reviews</th>\n",
              "      <th>last_review</th>\n",
              "      <th>reviews_per_month</th>\n",
              "      <th>calculated_host_listings_count</th>\n",
              "      <th>availability_365</th>\n",
              "    </tr>\n",
              "  </thead>\n",
              "  <tbody>\n",
              "    <tr>\n",
              "      <th>11312</th>\n",
              "      <td>21510142</td>\n",
              "      <td>Casal do Portinho  #  15/20PAX 30min LISBOA</td>\n",
              "      <td>150414336</td>\n",
              "      <td>Patricia</td>\n",
              "      <td>Arruda Dos Vinhos</td>\n",
              "      <td>Cardosas</td>\n",
              "      <td>38.97477</td>\n",
              "      <td>-9.03993</td>\n",
              "      <td>Entire home/apt</td>\n",
              "      <td>280</td>\n",
              "      <td>2</td>\n",
              "      <td>37</td>\n",
              "      <td>2020-06-01</td>\n",
              "      <td>1.18</td>\n",
              "      <td>1</td>\n",
              "      <td>305</td>\n",
              "    </tr>\n",
              "  </tbody>\n",
              "</table>\n",
              "</div>"
            ],
            "text/plain": [
              "             id  ... availability_365\n",
              "11312  21510142  ...              305\n",
              "\n",
              "[1 rows x 16 columns]"
            ]
          },
          "metadata": {
            "tags": []
          },
          "execution_count": 34
        }
      ]
    },
    {
      "cell_type": "code",
      "metadata": {
        "id": "64A7aIQ3rr3z",
        "colab_type": "code",
        "colab": {
          "base_uri": "https://localhost:8080/",
          "height": 267
        },
        "outputId": "5390d46a-b416-44e1-a743-e46eafb9dae0"
      },
      "source": [
        "# Quantidade de Imóveis no bairro Aveiras de Baixo\n",
        "print(df_clean[df_clean.neighbourhood == 'Aveiras de Baixo'].shape)\n",
        "\n",
        "# Ver as 2 entradas do bairro Cardosas\n",
        "df_clean[df_clean.neighbourhood == 'Aveiras de Baixo']"
      ],
      "execution_count": null,
      "outputs": [
        {
          "output_type": "stream",
          "text": [
            "(2, 16)\n"
          ],
          "name": "stdout"
        },
        {
          "output_type": "execute_result",
          "data": {
            "text/html": [
              "<div>\n",
              "<style scoped>\n",
              "    .dataframe tbody tr th:only-of-type {\n",
              "        vertical-align: middle;\n",
              "    }\n",
              "\n",
              "    .dataframe tbody tr th {\n",
              "        vertical-align: top;\n",
              "    }\n",
              "\n",
              "    .dataframe thead th {\n",
              "        text-align: right;\n",
              "    }\n",
              "</style>\n",
              "<table border=\"1\" class=\"dataframe\">\n",
              "  <thead>\n",
              "    <tr style=\"text-align: right;\">\n",
              "      <th></th>\n",
              "      <th>id</th>\n",
              "      <th>name</th>\n",
              "      <th>host_id</th>\n",
              "      <th>host_name</th>\n",
              "      <th>neighbourhood_group</th>\n",
              "      <th>neighbourhood</th>\n",
              "      <th>latitude</th>\n",
              "      <th>longitude</th>\n",
              "      <th>room_type</th>\n",
              "      <th>price</th>\n",
              "      <th>minimum_nights</th>\n",
              "      <th>number_of_reviews</th>\n",
              "      <th>last_review</th>\n",
              "      <th>reviews_per_month</th>\n",
              "      <th>calculated_host_listings_count</th>\n",
              "      <th>availability_365</th>\n",
              "    </tr>\n",
              "  </thead>\n",
              "  <tbody>\n",
              "    <tr>\n",
              "      <th>2019</th>\n",
              "      <td>3495167</td>\n",
              "      <td>Casa de campo de encanto</td>\n",
              "      <td>5713513</td>\n",
              "      <td>Anna</td>\n",
              "      <td>Azambuja</td>\n",
              "      <td>Aveiras de Baixo</td>\n",
              "      <td>39.10918</td>\n",
              "      <td>-8.86285</td>\n",
              "      <td>Entire home/apt</td>\n",
              "      <td>450</td>\n",
              "      <td>1</td>\n",
              "      <td>0</td>\n",
              "      <td>NaN</td>\n",
              "      <td>NaN</td>\n",
              "      <td>1</td>\n",
              "      <td>365</td>\n",
              "    </tr>\n",
              "    <tr>\n",
              "      <th>14002</th>\n",
              "      <td>25499427</td>\n",
              "      <td>Holiday house near Azambuja - District of Lisbon</td>\n",
              "      <td>72092826</td>\n",
              "      <td>Laure</td>\n",
              "      <td>Azambuja</td>\n",
              "      <td>Aveiras de Baixo</td>\n",
              "      <td>39.10863</td>\n",
              "      <td>-8.83827</td>\n",
              "      <td>Entire home/apt</td>\n",
              "      <td>89</td>\n",
              "      <td>7</td>\n",
              "      <td>5</td>\n",
              "      <td>2019-08-29</td>\n",
              "      <td>0.4</td>\n",
              "      <td>2</td>\n",
              "      <td>344</td>\n",
              "    </tr>\n",
              "  </tbody>\n",
              "</table>\n",
              "</div>"
            ],
            "text/plain": [
              "             id  ... availability_365\n",
              "2019    3495167  ...              365\n",
              "14002  25499427  ...              344\n",
              "\n",
              "[2 rows x 16 columns]"
            ]
          },
          "metadata": {
            "tags": []
          },
          "execution_count": 35
        }
      ]
    },
    {
      "cell_type": "markdown",
      "metadata": {
        "id": "b-wyspjdr7k7",
        "colab_type": "text"
      },
      "source": [
        "Com a análise anterior podemos verificar que o resultado a pergunta qual(is) bairro mais caro encontra-se equivocada e apresenta resultado não-significativo."
      ]
    },
    {
      "cell_type": "markdown",
      "metadata": {
        "id": "vmHuJKCus8LU",
        "colab_type": "text"
      },
      "source": [
        "Como o dataset analisado possui a Latitude e Longitude para os imóveis é possível plotar cada imóvel como um ponto. Para isso considera-se `x=longitude` e `y=latitude`.\n",
        "\n",
        "Se observar bem a projeção apresenta semelhança com o mapa de Lisboa e é possível notar uma maior concentração de pontos na região do litoral.\n",
        "\n",
        "<img alt=\"Vista Lisboa - Portugal\"  width=\"50%\" src=\"https://upload.wikimedia.org/wikipedia/commons/5/57/Lisboa_freguesias_2012.svg\">\n",
        "\n",
        "Imagem disponível em: https://pt.wikipedia.org/wiki/Lista_de_freguesias_de_Lisboa"
      ]
    },
    {
      "cell_type": "code",
      "metadata": {
        "id": "UxVJqJ_3W59I",
        "colab_type": "code",
        "colab": {
          "base_uri": "https://localhost:8080/",
          "height": 473
        },
        "outputId": "48cef290-5955-4d1a-df67-b9a4a889424f"
      },
      "source": [
        "# plotar os imóveis pela latitude-longitude\n",
        "df_clean.plot(kind=\"scatter\", x='longitude', y='latitude', alpha=0.4, c=df_clean['price'], s=8, cmap=plt.get_cmap('jet'), figsize=(12,8));\n"
      ],
      "execution_count": null,
      "outputs": [
        {
          "output_type": "display_data",
          "data": {
            "image/png": "[encoded data removed]",
            "text/plain": [
              "<Figure size 864x576 with 2 Axes>"
            ]
          },
          "metadata": {
            "tags": [],
            "needs_background": "light"
          }
        }
      ]
    },
    {
      "cell_type": "markdown",
      "metadata": {
        "id": "vTneAMRUYvr1",
        "colab_type": "text"
      },
      "source": [
        "### **Q8. Qual é a média do mínimo de noites para aluguel (minimum_nights)?**"
      ]
    },
    {
      "cell_type": "code",
      "metadata": {
        "id": "_VzNhrEgY82N",
        "colab_type": "code",
        "colab": {
          "base_uri": "https://localhost:8080/",
          "height": 34
        },
        "outputId": "c27bbee3-1647-4309-9393-69401f4f7ec4"
      },
      "source": [
        "# ver a média da coluna `minimum_nights``\n",
        "print(\"Quantidade mínima de noites: \" + str(round(df_clean['minimum_nights'].mean(),2)))"
      ],
      "execution_count": null,
      "outputs": [
        {
          "output_type": "stream",
          "text": [
            "Quantidade mínima de noites: 2.75\n"
          ],
          "name": "stdout"
        }
      ]
    },
    {
      "cell_type": "markdown",
      "metadata": {
        "id": "GkvAg623RjoR",
        "colab_type": "text"
      },
      "source": [
        "## Conclusões\n"
      ]
    },
    {
      "cell_type": "markdown",
      "metadata": {
        "id": "rbZ3Hsy9Ypw8",
        "colab_type": "text"
      },
      "source": [
        "Nesse estudo inicial foi realizada uma análise superficial na base de dados do Airbnb, porém, já se percebe que existem *outliers* em algumas das variáveis.\n",
        "\n",
        "Ao tentar analisar a localidade mais cara é possível notar que há poucos imóveis disponíveis em alguns bairros, o que acarreta o distorcimento de informações estatísticas de alguns atributos.\n",
        "\n",
        "Por fim, o *dataset* analisado é uma versão resumida ideal para uma abordagem inicial e também para fins didáticos (como foi o meu caso...rs). Para uma análise mais apurada, recomenda-se que em uma próxima análise exploratória seja utilizado o conjunto de dados completos com 106 atributos disponíveis."
      ]
    }
  ]
}